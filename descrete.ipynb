{
 "cells": [
  {
   "cell_type": "code",
   "execution_count": 1,
   "metadata": {},
   "outputs": [],
   "source": [
    "import control as ct\n",
    "import numpy as np\n",
    "import matplotlib.pyplot as plt"
   ]
  },
  {
   "cell_type": "code",
   "execution_count": 2,
   "metadata": {},
   "outputs": [
    {
     "data": {
      "text/latex": [
       "$$\\frac{4.184 z^2 - 8.34 z + 4.155}{z^2 - 1.925 z + 0.9253}\\quad dt = 0.01$$"
      ],
      "text/plain": [
       "\n",
       "4.184 z^2 - 8.34 z + 4.155\n",
       "--------------------------\n",
       "  z^2 - 1.925 z + 0.9253\n",
       "\n",
       "dt = 0.01"
      ]
     },
     "execution_count": 2,
     "metadata": {},
     "output_type": "execute_result"
    }
   ],
   "source": [
    "# Parameters\n",
    "Kp = 0.3804\n",
    "Ti = 5.15\n",
    "Td = 1.2875\n",
    "alpha = 0.1\n",
    "\n",
    "# Sampling Time\n",
    "T = 0.01\n",
    "\n",
    "# Controller transfer function in continuous time\n",
    "Cs = Kp*(1 + ct.tf([1], [Ti, 0]) + ct.tf([Td, 0], [alpha*Td, 1]))\n",
    "\n",
    "# Discretization\n",
    "Cz = ct.sample_system(Cs, T, 'zoh')\n",
    "\n",
    "# Display\n",
    "Cz"
   ]
  }
 ],
 "metadata": {
  "kernelspec": {
   "display_name": "Python 3",
   "language": "python",
   "name": "python3"
  },
  "language_info": {
   "codemirror_mode": {
    "name": "ipython",
    "version": 3
   },
   "file_extension": ".py",
   "mimetype": "text/x-python",
   "name": "python",
   "nbconvert_exporter": "python",
   "pygments_lexer": "ipython3",
   "version": "3.7.5"
  }
 },
 "nbformat": 4,
 "nbformat_minor": 4
}
