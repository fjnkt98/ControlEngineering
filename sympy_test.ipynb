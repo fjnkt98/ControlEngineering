{
 "cells": [
  {
   "cell_type": "code",
   "execution_count": 2,
   "metadata": {},
   "outputs": [],
   "source": [
    "import control as ct\n",
    "import numpy as np\n",
    "import sympy as sp\n",
    "import matplotlib.pyplot as plt"
   ]
  },
  {
   "cell_type": "code",
   "execution_count": 5,
   "metadata": {},
   "outputs": [],
   "source": [
    "sp.init_printing()\n",
    "\n",
    "z = sp.Symbol('z')\n",
    "T = sp.Symbol('T')\n",
    "Kp = sp.Symbol('Kp')\n",
    "Ti = sp.Symbol('Ti')\n",
    "Td = sp.Symbol('Td')\n",
    "a = sp.Symbol(r'\\alpha')"
   ]
  },
  {
   "cell_type": "code",
   "execution_count": 20,
   "metadata": {},
   "outputs": [
    {
     "data": {
      "image/png": "[encoded data removed]",
      "text/latex": [
       "$\\displaystyle Kp \\left(1 - \\frac{1}{z}\\right) \\left(\\frac{T}{Ti z \\left(1 - \\frac{1}{z}\\right)^{2}} + \\frac{1}{\\alpha - \\frac{\\alpha e^{- \\frac{T Td}{\\alpha}}}{z}} + \\frac{1}{1 - \\frac{1}{z}}\\right)$"
      ],
      "text/plain": [
       "   ⎛    1⎞ ⎛      T                    1                1  ⎞\n",
       "Kp⋅⎜1 - ─⎟⋅⎜───────────── + ─────────────────────── + ─────⎟\n",
       "   ⎝    z⎠ ⎜            2                    -T⋅Td        1⎟\n",
       "           ⎜     ⎛    1⎞                     ──────   1 - ─⎟\n",
       "           ⎜Ti⋅z⋅⎜1 - ─⎟                     \\alpha       z⎟\n",
       "           ⎜     ⎝    z⎠             \\alpha⋅ℯ              ⎟\n",
       "           ⎜                \\alpha - ──────────────        ⎟\n",
       "           ⎝                               z               ⎠"
      ]
     },
     "execution_count": 20,
     "metadata": {},
     "output_type": "execute_result"
    }
   ],
   "source": [
    "Cs = Kp*(1 - z**-1)*(1/(1-z**-1) + (T*z**-1)/(Ti*(1-z**-1)**2) + 1/(a - a*sp.exp(-T/a*Td)*z**-1))\n",
    "Cs"
   ]
  },
  {
   "cell_type": "code",
   "execution_count": 65,
   "metadata": {},
   "outputs": [
    {
     "data": {
      "image/png": "[encoded data removed]",
      "text/latex": [
       "$\\displaystyle \\frac{1.0 \\left(4.75936056667501 z^{2} - 9.46561185666788 z + 4.70635278347331\\right)}{1.13740573718454 z^{2} - 2.13740573718454 z + 1.0}$"
      ],
      "text/plain": [
       "    ⎛                  2                                        ⎞\n",
       "1.0⋅⎝4.75936056667501⋅z  - 9.46561185666788⋅z + 4.70635278347331⎠\n",
       "─────────────────────────────────────────────────────────────────\n",
       "                            2                                    \n",
       "          1.13740573718454⋅z  - 2.13740573718454⋅z + 1.0         "
      ]
     },
     "execution_count": 65,
     "metadata": {},
     "output_type": "execute_result"
    }
   ],
   "source": [
    "Cs1 = sp.simplify(Cs)\n",
    "\n",
    "Cs2 = Cs1.subs([(Kp, 0.3804), (T, 0.01), (Ti, 5.15), (Td, 1.2875), (a, 0.1)])\n",
    "sp.simplify(Cs2)"
   ]
  },
  {
   "cell_type": "code",
   "execution_count": 71,
   "metadata": {},
   "outputs": [
    {
     "data": {
      "image/png": "[encoded data removed]",
      "text/latex": [
       "$\\displaystyle \\frac{Kp Td Ti \\alpha s^{2} + Kp Td Ti s^{2} + Kp Td \\alpha s + Kp Ti s + Kp}{Td Ti \\alpha s^{2} + Ti s}$"
      ],
      "text/plain": [
       "                 2             2                                \n",
       "Kp⋅Td⋅Ti⋅\\alpha⋅s  + Kp⋅Td⋅Ti⋅s  + Kp⋅Td⋅\\alpha⋅s + Kp⋅Ti⋅s + Kp\n",
       "────────────────────────────────────────────────────────────────\n",
       "                                   2                            \n",
       "                     Td⋅Ti⋅\\alpha⋅s  + Ti⋅s                     "
      ]
     },
     "execution_count": 71,
     "metadata": {},
     "output_type": "execute_result"
    }
   ],
   "source": [
    "s = sp.Symbol('s')\n",
    "C = Kp * (1 + 1/(Ti*s) + (Td*s)/(1 + a*Td*s))\n",
    "sp.ratsimp(C)\n",
    "sp.cancel(C)"
   ]
  }
 ],
 "metadata": {
  "kernelspec": {
   "display_name": "Python 3",
   "language": "python",
   "name": "python3"
  },
  "language_info": {
   "codemirror_mode": {
    "name": "ipython",
    "version": 3
   },
   "file_extension": ".py",
   "mimetype": "text/x-python",
   "name": "python",
   "nbconvert_exporter": "python",
   "pygments_lexer": "ipython3",
   "version": "3.7.5"
  }
 },
 "nbformat": 4,
 "nbformat_minor": 4
}
