{
 "cells": [
  {
   "cell_type": "code",
   "execution_count": 1,
   "metadata": {},
   "outputs": [],
   "source": [
    "import control as ct\n",
    "import numpy as np\n",
    "import matplotlib.pyplot as plt"
   ]
  },
  {
   "cell_type": "code",
   "execution_count": 2,
   "metadata": {},
   "outputs": [],
   "source": [
    "def linestyle_generator():\n",
    "    linestyle = ['-', '--', '-.', ':']\n",
    "    lineID = 0\n",
    "    \n",
    "    while True:\n",
    "        yield linestyle[lineID]\n",
    "        lineID = (lineID + 1) % len(linestyle)\n",
    "\n",
    "def plot_set(fig_ax, *args):\n",
    "    fig_ax.set_xlabel(args[0])\n",
    "    fig_ax.set_ylabel(args[1])\n",
    "    fig_ax.grid(ls=':')\n",
    "    if len(args) == 3:\n",
    "        fig_ax.legend(loc=args[2])\n",
    "\n",
    "def bodeplot_set(fig_ax, *args):\n",
    "    fig_ax[0].grid(which=\"both\", ls=':')\n",
    "    fig_ax[0].set_ylabel('Gain [dB]')\n",
    "    \n",
    "    fig_ax[1].grid(which=\"both\", ls=':')\n",
    "    fig_ax[1].set_xlabel('$\\omega$ [rad/s]')\n",
    "    fig_ax[1].set_ylabel('Phase [deg]')\n",
    "    \n",
    "    if len(args) == 0:\n",
    "        fig_ax[1].legend(loc=args[0])\n",
    "    if len(args) == 1:\n",
    "        fig_ax[0].legend(loc=args[1])"
   ]
  },
  {
   "cell_type": "code",
   "execution_count": 4,
   "metadata": {},
   "outputs": [
    {
     "name": "stdout",
     "output_type": "stream",
     "text": [
      "P1: [-1.]\n",
      "P2: [1.]\n",
      "P3: [-0.025+0.99968745j -0.025-0.99968745j]\n",
      "P4: [0.025+0.99968745j 0.025-0.99968745j]\n"
     ]
    }
   ],
   "source": [
    "P1 = ct.tf([0, 1], [1, 1])\n",
    "print('P1:', ct.pole(P1))\n",
    "P2 = ct.tf([0, 1], [-1, 1])\n",
    "print('P2:', ct.pole(P2))\n",
    "P3 = ct.tf([0, 1], [1, 0.05, 1])\n",
    "print('P3:', ct.pole(P3))\n",
    "P4 = ct.tf([0, 1], [1, -0.05, 1])\n",
    "print('P4:', ct.pole(P4))"
   ]
  }
 ],
 "metadata": {
  "file_extension": ".py",
  "kernelspec": {
   "display_name": "Python 3",
   "language": "python",
   "name": "python3"
  },
  "language_info": {
   "codemirror_mode": {
    "name": "ipython",
    "version": 3
   },
   "file_extension": ".py",
   "mimetype": "text/x-python",
   "name": "python",
   "nbconvert_exporter": "python",
   "pygments_lexer": "ipython3",
   "version": "3.7.5"
  },
  "mimetype": "text/x-python",
  "name": "python",
  "npconvert_exporter": "python",
  "pygments_lexer": "ipython3",
  "version": 3
 },
 "nbformat": 4,
 "nbformat_minor": 4
}
